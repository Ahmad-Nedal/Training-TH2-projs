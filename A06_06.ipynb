{
  "cells": [
    {
      "cell_type": "markdown",
      "metadata": {
        "id": "view-in-github",
        "colab_type": "text"
      },
      "source": [
        "<a href=\"https://colab.research.google.com/github/Ahmad-Nedal/Training-TH2-projs/blob/main/A06_06.ipynb\" target=\"_parent\"><img src=\"https://colab.research.google.com/assets/colab-badge.svg\" alt=\"Open In Colab\"/></a>"
      ]
    },
    {
      "cell_type": "markdown",
      "metadata": {
        "id": "-s3kwF4kmZpu"
      },
      "source": [
        "## Stacking: Implement a stacking model\n",
        "\n",
        "Using the Titanic dataset from [this](https://www.kaggle.com/c/titanic/overview) Kaggle competition.\n",
        "\n",
        "In this section, we will fit and evaluate a simple stacked model."
      ]
    },
    {
      "cell_type": "markdown",
      "metadata": {
        "id": "ieqg3HYlmZpy"
      },
      "source": [
        "### Read in Data"
      ]
    },
    {
      "cell_type": "code",
      "execution_count": 1,
      "metadata": {
        "id": "ECJtWxIkmZpy"
      },
      "outputs": [],
      "source": [
        "import joblib\n",
        "import pandas as pd\n",
        "from sklearn.ensemble import StackingClassifier, GradientBoostingClassifier, RandomForestClassifier\n",
        "from sklearn.linear_model import LogisticRegression\n",
        "from sklearn.model_selection import GridSearchCV\n",
        "\n",
        "tr_features = pd.read_csv('https://raw.githubusercontent.com/Ahmad-Nedal/Training-TH2-projs/main/train_features.csv')\n",
        "tr_labels = pd.read_csv('https://raw.githubusercontent.com/Ahmad-Nedal/Training-TH2-projs/main/train_labels.csv')"
      ]
    },
    {
      "cell_type": "markdown",
      "metadata": {
        "id": "CJyguWEwmZp1"
      },
      "source": [
        "### Hyperparameter tuning"
      ]
    },
    {
      "cell_type": "code",
      "execution_count": 2,
      "metadata": {
        "id": "peNDrDAHmZp1"
      },
      "outputs": [],
      "source": [
        "def print_results(results):\n",
        "    print('BEST PARAMS: {}\\n'.format(results.best_params_))\n",
        "\n",
        "    means = results.cv_results_['mean_test_score']\n",
        "    stds = results.cv_results_['std_test_score']\n",
        "    for mean, std, params in zip(means, stds, results.cv_results_['params']):\n",
        "        print('{} (+/-{}) for {}'.format(round(mean, 3), round(std * 2, 3), params))"
      ]
    },
    {
      "cell_type": "code",
      "execution_count": 3,
      "metadata": {
        "id": "zB2LVT34mZp2",
        "outputId": "e1c54c7b-2348-4cdd-fc49-784f2205069a",
        "colab": {
          "base_uri": "https://localhost:8080/"
        }
      },
      "outputs": [
        {
          "output_type": "execute_result",
          "data": {
            "text/plain": [
              "{'cv': None,\n",
              " 'estimators': [('rf', RandomForestClassifier()),\n",
              "  ('gb', GradientBoostingClassifier())],\n",
              " 'final_estimator': None,\n",
              " 'gb': GradientBoostingClassifier(),\n",
              " 'gb__ccp_alpha': 0.0,\n",
              " 'gb__criterion': 'friedman_mse',\n",
              " 'gb__init': None,\n",
              " 'gb__learning_rate': 0.1,\n",
              " 'gb__loss': 'deviance',\n",
              " 'gb__max_depth': 3,\n",
              " 'gb__max_features': None,\n",
              " 'gb__max_leaf_nodes': None,\n",
              " 'gb__min_impurity_decrease': 0.0,\n",
              " 'gb__min_samples_leaf': 1,\n",
              " 'gb__min_samples_split': 2,\n",
              " 'gb__min_weight_fraction_leaf': 0.0,\n",
              " 'gb__n_estimators': 100,\n",
              " 'gb__n_iter_no_change': None,\n",
              " 'gb__random_state': None,\n",
              " 'gb__subsample': 1.0,\n",
              " 'gb__tol': 0.0001,\n",
              " 'gb__validation_fraction': 0.1,\n",
              " 'gb__verbose': 0,\n",
              " 'gb__warm_start': False,\n",
              " 'n_jobs': None,\n",
              " 'passthrough': False,\n",
              " 'rf': RandomForestClassifier(),\n",
              " 'rf__bootstrap': True,\n",
              " 'rf__ccp_alpha': 0.0,\n",
              " 'rf__class_weight': None,\n",
              " 'rf__criterion': 'gini',\n",
              " 'rf__max_depth': None,\n",
              " 'rf__max_features': 'auto',\n",
              " 'rf__max_leaf_nodes': None,\n",
              " 'rf__max_samples': None,\n",
              " 'rf__min_impurity_decrease': 0.0,\n",
              " 'rf__min_samples_leaf': 1,\n",
              " 'rf__min_samples_split': 2,\n",
              " 'rf__min_weight_fraction_leaf': 0.0,\n",
              " 'rf__n_estimators': 100,\n",
              " 'rf__n_jobs': None,\n",
              " 'rf__oob_score': False,\n",
              " 'rf__random_state': None,\n",
              " 'rf__verbose': 0,\n",
              " 'rf__warm_start': False,\n",
              " 'stack_method': 'auto',\n",
              " 'verbose': 0}"
            ]
          },
          "metadata": {},
          "execution_count": 3
        }
      ],
      "source": [
        "estimators = [('rf', RandomForestClassifier()),\n",
        "              ('gb', GradientBoostingClassifier())]\n",
        "\n",
        "sc = StackingClassifier(estimators=estimators)\n",
        "sc.get_params()"
      ]
    },
    {
      "cell_type": "code",
      "execution_count": null,
      "metadata": {
        "id": "COKdJwnTmZp3"
      },
      "outputs": [],
      "source": [
        "parameters = {\n",
        "    'gb__n_estimators': [50, 100],\n",
        "    'rf__n_estimators': [50, 100],\n",
        "    'final_estimator': [LogisticRegression(C=0.1),\n",
        "                        LogisticRegression(C=1),\n",
        "                        LogisticRegression(C=10)],\n",
        "    'passthrough': [True, False]\n",
        "}\n",
        "cv = GridSearchCV(sc, parameters, cv=5)\n",
        "cv.fit(tr_features, tr_labels.values.ravel())\n",
        "\n",
        "print_results(cv)"
      ]
    },
    {
      "cell_type": "markdown",
      "metadata": {
        "id": "qzlwApK4mZp4"
      },
      "source": [
        "### Write out pickled model"
      ]
    },
    {
      "cell_type": "code",
      "execution_count": 9,
      "metadata": {
        "id": "ZK5AXyj0mZp5",
        "outputId": "e6c5361f-b106-4255-9a9a-4f0456aaa681",
        "colab": {
          "base_uri": "https://localhost:8080/"
        }
      },
      "outputs": [
        {
          "output_type": "execute_result",
          "data": {
            "text/plain": [
              "['stacked_model.pkl']"
            ]
          },
          "metadata": {},
          "execution_count": 9
        }
      ],
      "source": [
        "joblib.dump(cv.best_estimator_, 'stacked_model.pkl')"
      ]
    },
    {
      "cell_type": "code",
      "execution_count": 9,
      "metadata": {
        "id": "4Pb_oShemZp6"
      },
      "outputs": [],
      "source": [
        ""
      ]
    }
  ],
  "metadata": {
    "kernelspec": {
      "display_name": "Python 3",
      "language": "python",
      "name": "python3"
    },
    "language_info": {
      "codemirror_mode": {
        "name": "ipython",
        "version": 3
      },
      "file_extension": ".py",
      "mimetype": "text/x-python",
      "name": "python",
      "nbconvert_exporter": "python",
      "pygments_lexer": "ipython3",
      "version": "3.7.5"
    },
    "colab": {
      "name": "06_06.ipynb",
      "provenance": [],
      "include_colab_link": true
    }
  },
  "nbformat": 4,
  "nbformat_minor": 0
}