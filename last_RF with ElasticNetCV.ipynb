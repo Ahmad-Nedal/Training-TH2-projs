{
  "nbformat": 4,
  "nbformat_minor": 0,
  "metadata": {
    "colab": {
      "name": "last RF.ipynb",
      "provenance": [],
      "collapsed_sections": [],
      "include_colab_link": true
    },
    "kernelspec": {
      "name": "python3",
      "display_name": "Python 3"
    },
    "language_info": {
      "name": "python"
    }
  },
  "cells": [
    {
      "cell_type": "markdown",
      "metadata": {
        "id": "view-in-github",
        "colab_type": "text"
      },
      "source": [
        "<a href=\"https://colab.research.google.com/github/Ahmad-Nedal/Training-TH2-projs/blob/main/last_RF%20with%20ElasticNetCV.ipynb\" target=\"_parent\"><img src=\"https://colab.research.google.com/assets/colab-badge.svg\" alt=\"Open In Colab\"/></a>"
      ]
    },
    {
      "cell_type": "code",
      "source": [
        "# STRATIFIES K-FOLD CROSS VALIDATION\n",
        "%matplotlib inline\n",
        "import numpy as num\n",
        "import pandas as pd\n",
        "from google.colab import drive\n",
        "from sklearn.impute import SimpleImputer\n",
        "from sklearn.preprocessing import StandardScaler\n",
        "from sklearn.preprocessing import LabelEncoder\n",
        "from sklearn.model_selection import train_test_split\n",
        "from sklearn import metrics\n",
        "from sklearn.model_selection import cross_val_score\n",
        "from sklearn import svm\n",
        "from sklearn.linear_model import LogisticRegression\n",
        "from sklearn.linear_model import LogisticRegressionCV\n",
        "# Import Required Modules.\n",
        "from statistics import mean, stdev\n",
        "from sklearn import preprocessing\n",
        "from sklearn.model_selection import StratifiedKFold\n",
        "from sklearn import linear_model\n",
        "from sklearn import datasets\n",
        "import pandas as pd\n",
        "from google.colab import drive\n",
        "from sklearn.metrics import balanced_accuracy_score\n",
        "from sklearn.ensemble import RandomForestClassifier\n",
        "from sklearn.model_selection import KFold, cross_val_score\n",
        "from sklearn.metrics import confusion_matrix\n",
        "import matplotlib.pyplot as plot\n",
        "from sklearn.linear_model import ElasticNetCV"
      ],
      "metadata": {
        "id": "Go9v0GnnaAqo"
      },
      "execution_count": 1,
      "outputs": []
    },
    {
      "cell_type": "code",
      "source": [
        "# FEATCHING FEATURES AND TARGET VARIABLES IN ARRAY FORMAT.\n",
        "#drive.mount('/content/drive')\n",
        "#df = pd.read_csv(\"/content/drive/MyDrive/thesis2/606_Full.csv\", index_col=0, parse_dates=True)  \n",
        "df = pd.read_csv('https://raw.githubusercontent.com/Ahmad-Nedal/TH2/main/DTI-606.csv')\n",
        "x = df.iloc[:, 4:]\n",
        "y = df.iloc[:, 3]"
      ],
      "metadata": {
        "id": "bFFp8MemJszW"
      },
      "execution_count": 2,
      "outputs": []
    },
    {
      "cell_type": "code",
      "source": [
        "X=x.columns"
      ],
      "metadata": {
        "id": "xeA-IpNHdNkH"
      },
      "execution_count": 3,
      "outputs": []
    },
    {
      "cell_type": "code",
      "source": [
        "x = df.iloc[:, 4:].values\n",
        "y = df.iloc[:, 3].values"
      ],
      "metadata": {
        "id": "daPmJVHqdesf"
      },
      "execution_count": 4,
      "outputs": []
    },
    {
      "cell_type": "code",
      "source": [
        "labels, counts = num.unique(y, return_counts=True)\n",
        "print(labels, counts)"
      ],
      "metadata": {
        "colab": {
          "base_uri": "https://localhost:8080/"
        },
        "id": "vXYN5l7PDCPr",
        "outputId": "06c3d08a-acf1-4a24-c65b-7d69a227c27b"
      },
      "execution_count": 5,
      "outputs": [
        {
          "output_type": "stream",
          "name": "stdout",
          "text": [
            "[1 2 3] [181 296 129]\n"
          ]
        }
      ]
    },
    {
      "cell_type": "code",
      "source": [
        "#Encoding Categorical Data\n",
        "labelencoder = LabelEncoder()\n",
        "y = labelencoder.fit_transform(y)"
      ],
      "metadata": {
        "id": "GgImJ7M2u3DI"
      },
      "execution_count": 6,
      "outputs": []
    },
    {
      "cell_type": "markdown",
      "source": [
        "##Model Building"
      ],
      "metadata": {
        "id": "joyy7KgBz08a"
      }
    },
    {
      "cell_type": "code",
      "source": [
        "# Create classifier object.\n",
        "rf = RandomForestClassifier(n_jobs=-1,random_state=0,n_estimators=40, class_weight= 'balanced')"
      ],
      "metadata": {
        "id": "n3Gpe3f6akAd"
      },
      "execution_count": 7,
      "outputs": []
    },
    {
      "cell_type": "code",
      "source": [
        "# Create StratifiedKFold object.\n",
        "\n",
        "skf = StratifiedKFold(n_splits=5, shuffle=True, random_state=2)\n",
        "Imputer = SimpleImputer(missing_values=num.nan, strategy='mean')\n",
        "StSc = StandardScaler()\n",
        "\n",
        "lst_accu_stratified = []\n",
        "predicted_targets = num.array([])\n",
        "actual_targets = num.array([])\n",
        "\n",
        "for train_index, test_index in skf.split(x, y):\n",
        "\tx_train_fold, x_test_fold = x[train_index], x[test_index]\n",
        "\ty_train_fold, y_test_fold = y[train_index], y[test_index]\n",
        "\n",
        "\tx_train_imputed = Imputer.fit_transform(x_train_fold)\n",
        "\tx_train_scaled = StSc.fit_transform(x_train_imputed)\n",
        "\n",
        "\tx_test_imputed = Imputer.transform(x_test_fold)\n",
        "\tx_test_scaled = StSc.transform(x_test_imputed)\n",
        " \t##\n",
        "\tclassifiers=rf.fit(x_train_scaled, y_train_fold)\n",
        "\tpredicted_labels = classifiers.predict(x_test_scaled)\n",
        "\tpredicted_targets = num.append(predicted_targets, predicted_labels)\n",
        "\tactual_targets = num.append(actual_targets, y_test_fold)\n",
        " \n",
        "\t#balanced_accuracy_score(y_true, y_pred)\n",
        "\tlst_accu_stratified.append(balanced_accuracy_score(predicted_targets, actual_targets))"
      ],
      "metadata": {
        "id": "Pc4BOeuhK6Me"
      },
      "execution_count": 8,
      "outputs": []
    },
    {
      "cell_type": "markdown",
      "source": [
        "## Model evaluation"
      ],
      "metadata": {
        "id": "FGDP4KH9zX6r"
      }
    },
    {
      "cell_type": "code",
      "execution_count": 9,
      "metadata": {
        "colab": {
          "base_uri": "https://localhost:8080/"
        },
        "id": "GliwnqN6F83L",
        "outputId": "df89c665-4039-4ba2-ad7d-f1d3601b8e29"
      },
      "outputs": [
        {
          "output_type": "stream",
          "name": "stdout",
          "text": [
            "List of possible accuracy: [0.7550545714796922, 0.7700530645174707, 0.7635690235690236, 0.7663028451953999, 0.7493142212013143]\n",
            "\n",
            "Maximum Accuracy That can be obtained from this model is: 77.00530645174707 %\n",
            "\n",
            "Minimum Accuracy: 74.93142212013143 %\n",
            "\n",
            "Overall Accuracy: 76.08587451925801 %\n",
            "\n",
            "Standard Deviation is: 0.008492405552033924\n"
          ]
        }
      ],
      "source": [
        "#balanced_accuracy_score(y_true, y_pred)\n",
        "\n",
        "# Print the output.\n",
        "print('List of possible accuracy:', lst_accu_stratified)\n",
        "print('\\nMaximum Accuracy That can be obtained from this model is:',\n",
        "\tmax(lst_accu_stratified)*100, '%')\n",
        "print('\\nMinimum Accuracy:',\n",
        "\tmin(lst_accu_stratified)*100, '%')\n",
        "print('\\nOverall Accuracy:',\n",
        "\tmean(lst_accu_stratified)*100, '%')\n",
        "print('\\nStandard Deviation is:', stdev(lst_accu_stratified))\n"
      ]
    },
    {
      "cell_type": "code",
      "source": [
        "classnames = num.array(['CN', 'MCI', 'AD'], dtype='<U10')\n",
        "def plot_confusion_matrix(predicted_labels_list, y_test_list):\n",
        "    cnf_matrix = confusion_matrix(y_test_list, predicted_labels_list)\n",
        "    num.set_printoptions(precision=2)\n",
        "\n",
        "   \n",
        "    plot.figure()\n",
        "    generate_confusion_matrix(cnf_matrix, classes=classnames, normalize=True, title='Normalized confusion matrix')\n",
        "    plot.show()\n",
        "def generate_confusion_matrix(cnf_matrix, classes, normalize=False, title='Confusion matrix'):\n",
        "    if normalize:\n",
        "        cnf_matrix = cnf_matrix.astype('float') / cnf_matrix.sum(axis=1)[:, num.newaxis]\n",
        "        print(\"Normalized confusion matrix\")\n",
        "    else:\n",
        "        print('Confusion matrix, without normalization')\n",
        "\n",
        "    plot.imshow(cnf_matrix, interpolation='nearest', cmap=plot.get_cmap('Blues'))\n",
        "    plot.title(title)\n",
        "    plot.colorbar()\n",
        "\n",
        "    tick_marks = num.arange(len(classes))\n",
        "    plot.xticks(tick_marks, classes, rotation=45)\n",
        "    plot.yticks(tick_marks, classes)\n",
        "\n",
        "    fmt = '.2f' if normalize else 'd'\n",
        "    thresh = cnf_matrix.max() / 2.\n",
        "\n",
        "\n",
        "    for i in range (cnf_matrix.shape[0]):\n",
        "        for j in range (cnf_matrix.shape[1]):\n",
        "          plot.text(j, i, format(cnf_matrix[i, j], fmt), horizontalalignment=\"center\",\n",
        "                    color=\"black\" if cnf_matrix[i, j] > thresh else \"blue\")\n",
        "          plot.tight_layout()\n",
        "          plot.ylabel('True label')\n",
        "          plot.xlabel('Predicted label')\n",
        "\n",
        "    return cnf_matrix\n",
        "plot_confusion_matrix(predicted_targets, actual_targets)"
      ],
      "metadata": {
        "colab": {
          "base_uri": "https://localhost:8080/",
          "height": 314
        },
        "id": "ILh1TuZZ7lsS",
        "outputId": "0172e129-ff19-4748-aef9-c63ac28e088b"
      },
      "execution_count": 10,
      "outputs": [
        {
          "output_type": "stream",
          "name": "stdout",
          "text": [
            "Normalized confusion matrix\n"
          ]
        },
        {
          "output_type": "display_data",
          "data": {
            "text/plain": [
              "<Figure size 432x288 with 2 Axes>"
            ],
            "image/png": "[encoded data removed]"
          },
          "metadata": {
            "needs_background": "light"
          }
        }
      ]
    },
    {
      "cell_type": "markdown",
      "source": [
        "## Features selection and importance"
      ],
      "metadata": {
        "id": "HOPH_Xzoy-8s"
      }
    },
    {
      "cell_type": "code",
      "source": [
        "regr = ElasticNetCV(cv=5, random_state=0)\n",
        "regr.fit(x, y)\n",
        "ElasticNetCV(cv=5, random_state=0)\n",
        "\n",
        "print(regr.alpha_)\n",
        "print(regr.intercept_)"
      ],
      "metadata": {
        "id": "8yRFxicMx35Z",
        "outputId": "41f4bb55-3ebd-4903-f18a-35edc4a729fc",
        "colab": {
          "base_uri": "https://localhost:8080/"
        }
      },
      "execution_count": 11,
      "outputs": [
        {
          "output_type": "stream",
          "name": "stdout",
          "text": [
            "0.0013164468729625638\n",
            "2.5585732184034087\n"
          ]
        }
      ]
    },
    {
      "cell_type": "code",
      "source": [
        "importances = rf.feature_importances_"
      ],
      "metadata": {
        "id": "481cZfQFY3Ov"
      },
      "execution_count": 12,
      "outputs": []
    },
    {
      "cell_type": "code",
      "source": [
        "indices = num.argsort(importances)\n",
        "\n",
        "fig, ax = plot.subplots()\n",
        "ax.barh(range(len(importances)), importances[indices])\n",
        "ax.set_yticks(range(len(importances)))\n",
        "_ = ax.set_yticklabels(num.array(X)[indices])"
      ],
      "metadata": {
        "id": "9ZKL0kUKY4kx",
        "outputId": "0e4a7c81-699b-4cf2-ebff-4c5e73672623",
        "colab": {
          "base_uri": "https://localhost:8080/",
          "height": 265
        }
      },
      "execution_count": 13,
      "outputs": [
        {
          "output_type": "display_data",
          "data": {
            "text/plain": [
              "<Figure size 432x288 with 1 Axes>"
            ],
            "image/png": "[encoded data removed]"
          },
          "metadata": {
            "needs_background": "light"
          }
        }
      ]
    },
    {
      "cell_type": "code",
      "source": [
        "# Sort the feature labels based on the feature importance rankings from the model\n",
        "feauture_indexes_by_importance = importances.argsort()\n",
        "\n",
        "# Print each feature label, from most important to least important (reverse order)\n",
        "for index in feauture_indexes_by_importance:\n",
        "    print(\"{} - {:.2f}%\".format(X[index], (importances[index] * 100.0)))"
      ],
      "metadata": {
        "id": "4OKCdtvFfX_k",
        "outputId": "8bd24966-e021-4f26-d4d6-44942e33952f",
        "colab": {
          "base_uri": "https://localhost:8080/"
        }
      },
      "execution_count": 14,
      "outputs": [
        {
          "output_type": "stream",
          "name": "stdout",
          "text": [
            "PTGENDER - 0.06%\n",
            "AD_ICP_R_DTIROI_04_30_14 - 0.08%\n",
            "AD_SUMBCC_DTIROI_04_30_14 - 0.09%\n",
            "MD_ICP_L_DTIROI_04_30_14 - 0.10%\n",
            "MD_RLIC_L_DTIROI_04_30_14 - 0.11%\n",
            "MD_SCR_L_DTIROI_04_30_14 - 0.11%\n",
            "RD_BCC_L_DTIROI_04_30_14 - 0.11%\n",
            "RD_EC_R_DTIROI_04_30_14 - 0.11%\n",
            "FA_ML_L_DTIROI_04_30_14 - 0.12%\n",
            "AD_TAP_R_DTIROI_04_30_14 - 0.12%\n",
            "RD_PLIC_L_DTIROI_04_30_14 - 0.13%\n",
            "MD_CP_L_DTIROI_04_30_14 - 0.13%\n",
            "FA_IFO_R_DTIROI_04_30_14 - 0.13%\n",
            "RD_SUMCC_DTIROI_04_30_14 - 0.13%\n",
            "AD_PLIC_R_DTIROI_04_30_14 - 0.13%\n",
            "RD_SUMBCC_DTIROI_04_30_14 - 0.15%\n",
            "RD_SCR_R_DTIROI_04_30_14 - 0.15%\n",
            "RD_PTR_R_DTIROI_04_30_14 - 0.15%\n",
            "RD_CP_R_DTIROI_04_30_14 - 0.15%\n",
            "FA_SCC_L_DTIROI_04_30_14 - 0.16%\n",
            "RD_SCC_R_DTIROI_04_30_14 - 0.16%\n",
            "MD_CST_R_DTIROI_04_30_14 - 0.16%\n",
            "AD_SCC_L_DTIROI_04_30_14 - 0.17%\n",
            "AD_CGC_L_DTIROI_04_30_14 - 0.17%\n",
            "FA_SUMCC_DTIROI_04_30_14 - 0.17%\n",
            "FA_SS_L_DTIROI_04_30_14 - 0.18%\n",
            "RD_GCC_R_DTIROI_04_30_14 - 0.18%\n",
            "RD_GCC_L_DTIROI_04_30_14 - 0.18%\n",
            "AD_SUMSCC_DTIROI_04_30_14 - 0.18%\n",
            "AD_BCC_L_DTIROI_04_30_14 - 0.18%\n",
            "MD_ICP_R_DTIROI_04_30_14 - 0.18%\n",
            "MD_TAP_R_DTIROI_04_30_14 - 0.19%\n",
            "AD_SCP_L_DTIROI_04_30_14 - 0.20%\n",
            "MD_SUMBCC_DTIROI_04_30_14 - 0.20%\n",
            "AD_SCC_R_DTIROI_04_30_14 - 0.20%\n",
            "FA_GCC_R_DTIROI_04_30_14 - 0.20%\n",
            "MD_ML_L_DTIROI_04_30_14 - 0.20%\n",
            "MD_BCC_R_DTIROI_04_30_14 - 0.21%\n",
            "AD_SUMCC_DTIROI_04_30_14 - 0.21%\n",
            "MD_SCC_R_DTIROI_04_30_14 - 0.21%\n",
            "MD_TAP_L_DTIROI_04_30_14 - 0.21%\n",
            "RD_RLIC_L_DTIROI_04_30_14 - 0.22%\n",
            "MD_CP_R_DTIROI_04_30_14 - 0.22%\n",
            "MD_SUMSCC_DTIROI_04_30_14 - 0.22%\n",
            "RD_SFO_L_DTIROI_04_30_14 - 0.22%\n",
            "AD_SFO_R_DTIROI_04_30_14 - 0.22%\n",
            "MD_SFO_L_DTIROI_04_30_14 - 0.22%\n",
            "AD_SCP_R_DTIROI_04_30_14 - 0.23%\n",
            "FA_CP_R_DTIROI_04_30_14 - 0.23%\n",
            "AD_SCR_R_DTIROI_04_30_14 - 0.23%\n",
            "RD_SLF_R_DTIROI_04_30_14 - 0.23%\n",
            "RD_TAP_R_DTIROI_04_30_14 - 0.23%\n",
            "AD_GCC_L_DTIROI_04_30_14 - 0.23%\n",
            "RD_CST_R_DTIROI_04_30_14 - 0.23%\n",
            "FA_ML_R_DTIROI_04_30_14 - 0.24%\n",
            "RD_FX_ST_R_DTIROI_04_30_14 - 0.24%\n",
            "FA_BCC_L_DTIROI_04_30_14 - 0.24%\n",
            "MD_SLF_L_DTIROI_04_30_14 - 0.24%\n",
            "FA_SCR_L_DTIROI_04_30_14 - 0.24%\n",
            "RD_SLF_L_DTIROI_04_30_14 - 0.25%\n",
            "FA_ICP_R_DTIROI_04_30_14 - 0.25%\n",
            "MD_CST_L_DTIROI_04_30_14 - 0.25%\n",
            "AD_PTR_R_DTIROI_04_30_14 - 0.25%\n",
            "RD_SS_R_DTIROI_04_30_14 - 0.26%\n",
            "AD_CP_R_DTIROI_04_30_14 - 0.26%\n",
            "AD_EC_R_DTIROI_04_30_14 - 0.26%\n",
            "MD_GCC_R_DTIROI_04_30_14 - 0.26%\n",
            "FA_SCP_L_DTIROI_04_30_14 - 0.26%\n",
            "MD_PLIC_L_DTIROI_04_30_14 - 0.26%\n",
            "MD_SCP_L_DTIROI_04_30_14 - 0.27%\n",
            "RD_IFO_L_DTIROI_04_30_14 - 0.27%\n",
            "RD_SFO_R_DTIROI_04_30_14 - 0.27%\n",
            "AD_SCR_L_DTIROI_04_30_14 - 0.27%\n",
            "FA_ALIC_L_DTIROI_04_30_14 - 0.27%\n",
            "FA_CST_R_DTIROI_04_30_14 - 0.27%\n",
            "MD_SCR_R_DTIROI_04_30_14 - 0.28%\n",
            "FA_TAP_L_DTIROI_04_30_14 - 0.28%\n",
            "MD_RLIC_R_DTIROI_04_30_14 - 0.28%\n",
            "MD_SUMCC_DTIROI_04_30_14 - 0.29%\n",
            "AD_ACR_L_DTIROI_04_30_14 - 0.29%\n",
            "RD_ACR_R_DTIROI_04_30_14 - 0.29%\n",
            "RD_PTR_L_DTIROI_04_30_14 - 0.29%\n",
            "AD_RLIC_L_DTIROI_04_30_14 - 0.29%\n",
            "AD_FX_R_DTIROI_04_30_14 - 0.29%\n",
            "AD_SUMGCC_DTIROI_04_30_14 - 0.30%\n",
            "RD_RLIC_R_DTIROI_04_30_14 - 0.30%\n",
            "FA_PTR_R_DTIROI_04_30_14 - 0.30%\n",
            "RD_CGH_R_DTIROI_04_30_14 - 0.30%\n",
            "MD_SFO_R_DTIROI_04_30_14 - 0.30%\n",
            "FA_SUMSCC_DTIROI_04_30_14 - 0.30%\n",
            "AD_RLIC_R_DTIROI_04_30_14 - 0.30%\n",
            "RD_ML_R_DTIROI_04_30_14 - 0.30%\n",
            "RD_FX_ST_L_DTIROI_04_30_14 - 0.31%\n",
            "RD_SCR_L_DTIROI_04_30_14 - 0.31%\n",
            "FA_CP_L_DTIROI_04_30_14 - 0.31%\n",
            "FA_SFO_R_DTIROI_04_30_14 - 0.31%\n",
            "MD_IFO_L_DTIROI_04_30_14 - 0.31%\n",
            "AD_SUMFX_DTIROI_04_30_14 - 0.31%\n",
            "AD_CST_L_DTIROI_04_30_14 - 0.31%\n",
            "AD_CST_R_DTIROI_04_30_14 - 0.32%\n",
            "AD_BCC_R_DTIROI_04_30_14 - 0.32%\n",
            "FA_UNC_R_DTIROI_04_30_14 - 0.32%\n",
            "FA_ACR_L_DTIROI_04_30_14 - 0.32%\n",
            "FA_SCR_R_DTIROI_04_30_14 - 0.32%\n",
            "FA_PCR_R_DTIROI_04_30_14 - 0.33%\n",
            "RD_SCP_R_DTIROI_04_30_14 - 0.33%\n",
            "MD_SUMGCC_DTIROI_04_30_14 - 0.33%\n",
            "RD_CST_L_DTIROI_04_30_14 - 0.33%\n",
            "AD_SS_R_DTIROI_04_30_14 - 0.33%\n",
            "RD_SUMGCC_DTIROI_04_30_14 - 0.34%\n",
            "FA_EC_R_DTIROI_04_30_14 - 0.34%\n",
            "MD_PLIC_R_DTIROI_04_30_14 - 0.34%\n",
            "FA_PLIC_R_DTIROI_04_30_14 - 0.34%\n",
            "FA_ALIC_R_DTIROI_04_30_14 - 0.34%\n",
            "FA_SLF_L_DTIROI_04_30_14 - 0.34%\n",
            "RD_ACR_L_DTIROI_04_30_14 - 0.35%\n",
            "AD_TAP_L_DTIROI_04_30_14 - 0.35%\n",
            "FA_SLF_R_DTIROI_04_30_14 - 0.35%\n",
            "MD_BCC_L_DTIROI_04_30_14 - 0.35%\n",
            "FA_PLIC_L_DTIROI_04_30_14 - 0.35%\n",
            "MD_FX_ST_L_DTIROI_04_30_14 - 0.35%\n",
            "FA_ICP_L_DTIROI_04_30_14 - 0.36%\n",
            "FA_IFO_L_DTIROI_04_30_14 - 0.36%\n",
            "MD_ALIC_L_DTIROI_04_30_14 - 0.36%\n",
            "RD_PCR_L_DTIROI_04_30_14 - 0.36%\n",
            "MD_PTR_L_DTIROI_04_30_14 - 0.36%\n",
            "FA_CGC_R_DTIROI_04_30_14 - 0.36%\n",
            "MD_ACR_R_DTIROI_04_30_14 - 0.37%\n",
            "MD_PTR_R_DTIROI_04_30_14 - 0.37%\n",
            "RD_ALIC_L_DTIROI_04_30_14 - 0.37%\n",
            "RD_SCC_L_DTIROI_04_30_14 - 0.37%\n",
            "FA_CGC_L_DTIROI_04_30_14 - 0.37%\n",
            "RD_ML_L_DTIROI_04_30_14 - 0.38%\n",
            "AD_SFO_L_DTIROI_04_30_14 - 0.38%\n",
            "FA_GCC_L_DTIROI_04_30_14 - 0.38%\n",
            "FA_FX_ST_R_DTIROI_04_30_14 - 0.38%\n",
            "RD_PCR_R_DTIROI_04_30_14 - 0.38%\n",
            "RD_PLIC_R_DTIROI_04_30_14 - 0.39%\n",
            "RD_SCP_L_DTIROI_04_30_14 - 0.39%\n",
            "MD_EC_R_DTIROI_04_30_14 - 0.39%\n",
            "AD_FX_ST_R_DTIROI_04_30_14 - 0.39%\n",
            "MD_PCR_L_DTIROI_04_30_14 - 0.40%\n",
            "AD_PLIC_L_DTIROI_04_30_14 - 0.40%\n",
            "AD_PTR_L_DTIROI_04_30_14 - 0.40%\n",
            "FA_EC_L_DTIROI_04_30_14 - 0.40%\n",
            "MD_ALIC_R_DTIROI_04_30_14 - 0.40%\n",
            "AD_ML_L_DTIROI_04_30_14 - 0.40%\n",
            "FA_CST_L_DTIROI_04_30_14 - 0.40%\n",
            "RD_ALIC_R_DTIROI_04_30_14 - 0.41%\n",
            "FA_SS_R_DTIROI_04_30_14 - 0.41%\n",
            "FA_SCP_R_DTIROI_04_30_14 - 0.41%\n",
            "FA_ACR_R_DTIROI_04_30_14 - 0.41%\n",
            "AD_GCC_R_DTIROI_04_30_14 - 0.41%\n",
            "FA_SCC_R_DTIROI_04_30_14 - 0.42%\n",
            "FA_TAP_R_DTIROI_04_30_14 - 0.42%\n",
            "FA_SUMGCC_DTIROI_04_30_14 - 0.42%\n",
            "FA_PCR_L_DTIROI_04_30_14 - 0.42%\n",
            "FA_UNC_L_DTIROI_04_30_14 - 0.43%\n",
            "MD_SCC_L_DTIROI_04_30_14 - 0.43%\n",
            "AD_PCR_L_DTIROI_04_30_14 - 0.43%\n",
            "AD_SLF_L_DTIROI_04_30_14 - 0.44%\n",
            "RD_BCC_R_DTIROI_04_30_14 - 0.44%\n",
            "FA_RLIC_L_DTIROI_04_30_14 - 0.44%\n",
            "RD_CP_L_DTIROI_04_30_14 - 0.44%\n",
            "RD_SUMFX_DTIROI_04_30_14 - 0.45%\n",
            "MD_ML_R_DTIROI_04_30_14 - 0.45%\n",
            "AD_SLF_R_DTIROI_04_30_14 - 0.46%\n",
            "MD_SCP_R_DTIROI_04_30_14 - 0.47%\n",
            "AD_FX_ST_L_DTIROI_04_30_14 - 0.47%\n",
            "AD_CP_L_DTIROI_04_30_14 - 0.47%\n",
            "MD_ACR_L_DTIROI_04_30_14 - 0.48%\n",
            "RD_TAP_L_DTIROI_04_30_14 - 0.48%\n",
            "MD_GCC_L_DTIROI_04_30_14 - 0.48%\n",
            "RD_EC_L_DTIROI_04_30_14 - 0.48%\n",
            "MD_SLF_R_DTIROI_04_30_14 - 0.48%\n",
            "RD_ICP_L_DTIROI_04_30_14 - 0.49%\n",
            "AD_ALIC_L_DTIROI_04_30_14 - 0.49%\n",
            "FA_BCC_R_DTIROI_04_30_14 - 0.49%\n",
            "MD_CGC_R_DTIROI_04_30_14 - 0.49%\n",
            "MD_EC_L_DTIROI_04_30_14 - 0.49%\n",
            "FA_SFO_L_DTIROI_04_30_14 - 0.50%\n",
            "FA_RLIC_R_DTIROI_04_30_14 - 0.50%\n",
            "RD_FX_L_DTIROI_04_30_14 - 0.51%\n",
            "AD_IFO_L_DTIROI_04_30_14 - 0.52%\n",
            "RD_FX_R_DTIROI_04_30_14 - 0.52%\n",
            "AD_FX_L_DTIROI_04_30_14 - 0.52%\n",
            "RD_CGC_R_DTIROI_04_30_14 - 0.53%\n",
            "RD_IFO_R_DTIROI_04_30_14 - 0.53%\n",
            "FA_CGH_L_DTIROI_04_30_14 - 0.53%\n",
            "AD_CGC_R_DTIROI_04_30_14 - 0.54%\n",
            "AD_ICP_L_DTIROI_04_30_14 - 0.54%\n",
            "MD_SS_R_DTIROI_04_30_14 - 0.54%\n",
            "RD_SUMSCC_DTIROI_04_30_14 - 0.54%\n",
            "RD_ICP_R_DTIROI_04_30_14 - 0.56%\n",
            "FA_SUMBCC_DTIROI_04_30_14 - 0.56%\n",
            "FA_CGH_R_DTIROI_04_30_14 - 0.57%\n",
            "AD_PCR_R_DTIROI_04_30_14 - 0.57%\n",
            "RD_CGC_L_DTIROI_04_30_14 - 0.58%\n",
            "AD_ALIC_R_DTIROI_04_30_14 - 0.58%\n",
            "AD_ACR_R_DTIROI_04_30_14 - 0.59%\n",
            "AD_EC_L_DTIROI_04_30_14 - 0.59%\n",
            "RD_UNC_R_DTIROI_04_30_14 - 0.62%\n",
            "FA_FX_R_DTIROI_04_30_14 - 0.63%\n",
            "FA_SUMFX_DTIROI_04_30_14 - 0.64%\n",
            "FA_FX_ST_L_DTIROI_04_30_14 - 0.64%\n",
            "FA_PTR_L_DTIROI_04_30_14 - 0.65%\n",
            "AD_CGH_R_DTIROI_04_30_14 - 0.68%\n",
            "AD_ML_R_DTIROI_04_30_14 - 0.70%\n",
            "MD_SUMFX_DTIROI_04_30_14 - 0.72%\n",
            "MD_FX_ST_R_DTIROI_04_30_14 - 0.73%\n",
            "FA_FX_L_DTIROI_04_30_14 - 0.76%\n",
            "MD_IFO_R_DTIROI_04_30_14 - 0.78%\n",
            "AGE - 0.79%\n",
            "MD_FX_R_DTIROI_04_30_14 - 0.80%\n",
            "MD_CGH_R_DTIROI_04_30_14 - 0.86%\n",
            "MD_FX_L_DTIROI_04_30_14 - 0.88%\n",
            "MD_PCR_R_DTIROI_04_30_14 - 0.91%\n",
            "MD_CGC_L_DTIROI_04_30_14 - 0.94%\n",
            "AD_IFO_R_DTIROI_04_30_14 - 0.98%\n",
            "MD_SS_L_DTIROI_04_30_14 - 1.30%\n",
            "RD_UNC_L_DTIROI_04_30_14 - 1.37%\n",
            "RD_CGH_L_DTIROI_04_30_14 - 1.49%\n",
            "AD_SS_L_DTIROI_04_30_14 - 1.53%\n",
            "MD_UNC_R_DTIROI_04_30_14 - 1.72%\n",
            "AD_UNC_R_DTIROI_04_30_14 - 1.79%\n",
            "RD_SS_L_DTIROI_04_30_14 - 1.79%\n",
            "AD_UNC_L_DTIROI_04_30_14 - 2.10%\n",
            "MD_UNC_L_DTIROI_04_30_14 - 2.38%\n",
            "MD_CGH_L_DTIROI_04_30_14 - 2.46%\n",
            "AD_CGH_L_DTIROI_04_30_14 - 3.08%\n"
          ]
        }
      ]
    }
  ]
}
